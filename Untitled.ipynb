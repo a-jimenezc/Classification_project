{
 "cells": [
  {
   "cell_type": "code",
   "execution_count": 51,
   "id": "e487cba2-343c-4824-8931-e5d7628abd10",
   "metadata": {},
   "outputs": [],
   "source": [
    "import pandas as pd\n",
    "import numpy as np\n",
    "from sklearn.preprocessing import StandardScaler, KBinsDiscretizer"
   ]
  },
  {
   "cell_type": "code",
   "execution_count": 12,
   "id": "85f8636f-73bd-4f19-a474-6d8369cc62fa",
   "metadata": {},
   "outputs": [
    {
     "data": {
      "text/plain": [
       "Index(['L1', 'C', 'L1L2', 'L2', 'AaA', 'LoR', 'Edu.day', 'Sex', 'Family',\n",
       "       'ISO639.3', 'Enroll', 'Speaking', 'morph', 'lex', 'new_feat',\n",
       "       'new_sounds'],\n",
       "      dtype='object')"
      ]
     },
     "execution_count": 12,
     "metadata": {},
     "output_type": "execute_result"
    }
   ],
   "source": [
    "df = pd.read_csv('stex.csv',encoding='latin-1')\n",
    "df.columns"
   ]
  },
  {
   "cell_type": "code",
   "execution_count": 25,
   "id": "52f74e5d-0f10-413d-858a-7c473b1e84b6",
   "metadata": {
    "tags": []
   },
   "outputs": [
    {
     "name": "stdout",
     "output_type": "stream",
     "text": [
      "L1 : 0\n",
      "C : 0\n",
      "L1L2 : 0\n",
      "L2 : 0\n",
      "AaA : 0\n",
      "LoR : 0\n",
      "Edu.day : 9\n",
      "Sex : 0\n",
      "Family : 0\n",
      "ISO639.3 : 0\n",
      "Enroll : 0\n",
      "Speaking : 0\n",
      "morph : 1809\n",
      "lex : 0\n",
      "new_feat : 2016\n",
      "new_sounds : 2016\n"
     ]
    }
   ],
   "source": [
    "for colName, colData in df.items():\n",
    "    print(colName, ':', df[colName].isna().sum())"
   ]
  },
  {
   "cell_type": "code",
   "execution_count": 46,
   "id": "98c6631c-0466-43ad-92b0-51c6c8a989a0",
   "metadata": {},
   "outputs": [
    {
     "data": {
      "text/plain": [
       "3.0    24366\n",
       "4.0    18269\n",
       "1.0     3928\n",
       "2.0     3672\n",
       "Name: Edu.day, dtype: int64"
      ]
     },
     "execution_count": 46,
     "metadata": {},
     "output_type": "execute_result"
    }
   ],
   "source": [
    "median = df['Edu.day'].median()\n",
    "df['Edu.day'].fillna(median, inplace=True)\n",
    "df['Edu.day'].value_counts(dropna=False)"
   ]
  },
  {
   "cell_type": "code",
   "execution_count": 50,
   "id": "c7edc375-69f9-449f-a5c3-7c313ddd0ebf",
   "metadata": {},
   "outputs": [
    {
     "data": {
      "text/plain": [
       "<AxesSubplot: ylabel='Frequency'>"
      ]
     },
     "execution_count": 50,
     "metadata": {},
     "output_type": "execute_result"
    },
    {
     "data": {
      "image/png": "[encoded data removed]",
      "text/plain": [
       "<Figure size 640x480 with 1 Axes>"
      ]
     },
     "metadata": {},
     "output_type": "display_data"
    }
   ],
   "source": [
    "df['morph'].value_counts(dropna=False)\n",
    "#mean = df['morph'].mean()\n",
    "df['morph'].plot.hist()"
   ]
  }
 ],
 "metadata": {
  "kernelspec": {
   "display_name": "Python 3 (ipykernel)",
   "language": "python",
   "name": "python3"
  },
  "language_info": {
   "codemirror_mode": {
    "name": "ipython",
    "version": 3
   },
   "file_extension": ".py",
   "mimetype": "text/x-python",
   "name": "python",
   "nbconvert_exporter": "python",
   "pygments_lexer": "ipython3",
   "version": "3.11.1"
  }
 },
 "nbformat": 4,
 "nbformat_minor": 5
}
